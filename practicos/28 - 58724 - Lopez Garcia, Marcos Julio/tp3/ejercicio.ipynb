{
 "cells": [
  {
   "cell_type": "markdown",
   "metadata": {},
   "source": [
    "#TP3"
   ]
  },
  {
   "cell_type": "markdown",
   "metadata": {},
   "source": [
    "## Ejercicio 1: Cargar Datos de ventas.\n",
    "\n",
    "El archivo datos.dat contiene el registro de las ventas realizadas.\n",
    "\n",
    "Tiene un formato de ancho fijo:\n",
    "- fecha:    10 lugares\n",
    "- producto: 30 lugares\n",
    "- precio:   10 lugares\n",
    "- cantidad:  5 lugares\n",
    "\n",
    "hacer una funcion que carge los en una lista de diccionarios. \n",
    "\n",
    "nota: con \n",
    "```python\n",
    "lineas = open(\"datos.dat\", \"r\").readlines() \n",
    "```\n",
    "puede obtener la lista de string de todos los datos "
   ]
  },
  {
   "cell_type": "code",
   "execution_count": null,
   "metadata": {},
   "outputs": [],
   "source": [
    "def cargar_datos():\n",
    "    datos = []\n",
    "    with open('datos.dat', 'r') as archivo:\n",
    "        for linea in archivo:\n",
    "            fecha = linea[0:10].strip()\n",
    "            producto = linea[10:40].strip()\n",
    "            precio = int(linea[40:50].strip())\n",
    "            cantidad = int(linea[50:55].strip())\n",
    "            datos.append({\n",
    "                'fecha': fecha,\n",
    "                'producto': producto,\n",
    "                'precio': precio,\n",
    "                'cantidad': cantidad\n",
    "            })\n",
    "    return datos\n",
    "datos = cargar_datos()"
   ]
  },
  {
   "cell_type": "markdown",
   "metadata": {},
   "source": [
    "## Ejercicio 2: Calcular el total de ventas.\n",
    "\n",
    "Hacer una funcion que sume los importes vendidos (precio * cantidad) y las cantidades"
   ]
  },
  {
   "cell_type": "code",
   "execution_count": null,
   "metadata": {},
   "outputs": [],
   "source": [
    "def calcular_totales(datos):\n",
    "    total_importe = 0\n",
    "    total_cantidad = 0\n",
    "    for venta in datos:\n",
    "        total_importe += venta['precio'] * venta['cantidad']  # Calcular importe\n",
    "        total_cantidad += venta['cantidad']  # Acumular cantidad\n",
    "    return total_importe, total_cantidad\n",
    "\n",
    "# Uso\n",
    "importe, cantidad = calcular_totales(datos)\n",
    "print(f\"Las ventas fueron de ${importe:.2f} en {cantidad} unidades\")"
   ]
  },
  {
   "cell_type": "markdown",
   "metadata": {},
   "source": [
    "## Ejercicio 3: Listar las unidades vendidas.\n",
    "\n",
    "Listar cuantas unidades se vendieron en total para cada producto"
   ]
  },
  {
   "cell_type": "code",
   "execution_count": null,
   "metadata": {},
   "outputs": [],
   "source": [
    "from collections import defaultdict\n",
    "\n",
    "def unidades_vendidas(datos):\n",
    "    ventas = defaultdict(int)\n",
    "    for venta in datos:\n",
    "        ventas[venta['producto']] += venta['cantidad']  # Sumar unidades vendidas por producto\n",
    "    return dict(ventas)\n",
    "\n",
    "def listar_ventas(ventas):\n",
    "    for producto, cantidad in ventas.items():\n",
    "        print(f\"{producto}: {cantidad} unidades vendidas\")\n",
    "\n",
    "# Uso\n",
    "ventas = unidades_vendidas(datos)\n",
    "listar_ventas(ventas)\n"
   ]
  },
  {
   "cell_type": "markdown",
   "metadata": {},
   "source": [
    "##  Ejercicio 4: Listar el precio promedio por producto.\n",
    "\n",
    "Hacer un listado del precio promedio por productos."
   ]
  },
  {
   "cell_type": "code",
   "execution_count": null,
   "metadata": {},
   "outputs": [],
   "source": [
    "def precio_promedio(datos):\n",
    "    suma_precios = defaultdict(int)\n",
    "    conteo = defaultdict(int)\n",
    "    \n",
    "    for venta in datos:\n",
    "        suma_precios[venta['producto']] += venta['precio']  # Sumar precios\n",
    "        conteo[venta['producto']] += 1  # Contar ocurrencias del producto\n",
    "    \n",
    "    promedio = {producto: suma_precios[producto] / conteo[producto] for producto in suma_precios}\n",
    "    return promedio\n",
    "\n",
    "def listar_precios(datos):\n",
    "     for producto, precio in precios.items():\n",
    "        print(f\"{producto}: Precio promedio {precio:.2f}\")\n",
    "\n",
    "precios = precio_promedio(datos)\n",
    "listar_precios(precios)"
   ]
  },
  {
   "cell_type": "markdown",
   "metadata": {},
   "source": [
    "### Ejercicio 5: Ranking de productos\n",
    "\n",
    "Realizar un listado de los 3 productos mas vendidos ordenados la cantidad de unidades vendidas (ordenadas de mayor a menor)\n"
   ]
  },
  {
   "cell_type": "code",
   "execution_count": null,
   "metadata": {},
   "outputs": [],
   "source": [
    "def ranking_productos(datos, top=3):\n",
    "    ventas = unidades_vendidas(datos)\n",
    "    ranking = sorted(ventas.items(), key=lambda x: x[1], reverse=True)[:top]  # Ordenar por cantidad\n",
    "    return ranking\n",
    "\n",
    "def listar_ranking(ranking):\n",
    "    for producto, cantidad in ranking:\n",
    "        print(f\"{producto}: {cantidad} unidades vendidas\")\n",
    "\n",
    "ranking = ranking_productos(datos)\n",
    "listar_ranking(ranking)"
   ]
  },
  {
   "cell_type": "markdown",
   "metadata": {},
   "source": [
    "### Ejercicio 6: Listar las ventas por mes\n",
    "\n",
    "Realizar un listado del total de unidades vendidas por productos separada por mes."
   ]
  },
  {
   "cell_type": "code",
   "execution_count": null,
   "metadata": {},
   "outputs": [],
   "source": [
    "def ventas_por_mes(datos):\n",
    "    ventas_mensuales = defaultdict(lambda: defaultdict(int))\n",
    "    for venta in datos:\n",
    "        mes = venta['fecha'][:7]  # YYYY-MM\n",
    "        ventas_mensuales[mes][venta['producto']] += venta['cantidad']  # Sumar por producto y mes\n",
    "    return dict(ventas_mensuales)\n",
    "\n",
    "def listar_ventas_mensuales(ventas):\n",
    "     for mes, productos in ventas.items():\n",
    "        print(f\"Ventas en {mes}:\")\n",
    "        for producto, cantidad in productos.items():\n",
    "            print(f\"  {producto}: {cantidad} unidades\")\n",
    "\n",
    "ventas = ventas_por_mes(datos)\n",
    "listar_ventas_mensuales(ventas)"
   ]
  },
  {
   "cell_type": "markdown",
   "metadata": {},
   "source": [
    "### Ejercicio 7: Informe general\n",
    "\n",
    "Mostrar un listado de productos ordenados alfabeticamente que contengan el precio promedio, la cantidad de unidades vendidas y el importe total vendido para cada producto"
   ]
  },
  {
   "cell_type": "code",
   "execution_count": null,
   "metadata": {},
   "outputs": [],
   "source": [
    "def resumen_ventas(datos):\n",
    "    ventas = unidades_vendidas(datos)\n",
    "    precios = precio_promedio(datos)\n",
    "    \n",
    "    total_importe = defaultdict(int)\n",
    "    for venta in datos:\n",
    "        total_importe[venta['producto']] += venta['precio'] * venta['cantidad']  # Acumular el importe total\n",
    "    \n",
    "    # Crear resumen con los datos relevantes\n",
    "    return {producto: {\n",
    "                'precio_promedio': precios[producto], \n",
    "                'unidades_vendidas': ventas[producto], \n",
    "                'importe_total': total_importe[producto]\n",
    "            } for producto in ventas}\n",
    "\n",
    "def informe_ventas(resumen):\n",
    "    print(f\"{'Producto':<20}{'Precio Promedio':<20}{'Unidades Vendidas':<20}{'Importe Total':<20}\")\n",
    "    for producto, datos in sorted(resumen.items()):\n",
    "        print(f\"{producto:<20}{datos['precio_promedio']:<20.2f}{datos['unidades_vendidas']:<20}{datos['importe_total']:<20.2f}\")\n",
    "\n",
    "# Uso\n",
    "resumen = resumen_ventas(datos)\n",
    "informe_ventas(resumen)\n",
    "\n"
   ]
  }
 ],
 "metadata": {
  "kernelspec": {
   "display_name": "Python 3",
   "language": "python",
   "name": "python3"
  },
  "language_info": {
   "codemirror_mode": {
    "name": "ipython",
    "version": 3
   },
   "file_extension": ".py",
   "mimetype": "text/x-python",
   "name": "python",
   "nbconvert_exporter": "python",
   "pygments_lexer": "ipython3",
   "version": "3.12.5"
  }
 },
 "nbformat": 4,
 "nbformat_minor": 2
}
